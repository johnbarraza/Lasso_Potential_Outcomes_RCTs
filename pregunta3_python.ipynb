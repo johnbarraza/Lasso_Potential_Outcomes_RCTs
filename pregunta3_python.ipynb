{
 "cells": [
  {
   "cell_type": "code",
   "execution_count": 3,
   "id": "8d0aca23",
   "metadata": {},
   "outputs": [],
   "source": [
    "import pandas as pd\n",
    "import numpy as np\n",
    "from scipy import stats \n"
   ]
  },
  {
   "cell_type": "code",
   "execution_count": null,
   "id": "5b48bf60",
   "metadata": {},
   "outputs": [],
   "source": [
    "#seteo básico\n",
    "np.random.seed(42)\n",
    "n = 1000\n",
    "\n",
    "X1 = np.random.normal(loc=15, scale=5, size=n)  # Continua\n",
    "X2 = np.random.normal(loc=10, scale=2, size=n)  # Continua\n",
    "X3 = np.random.binomial(n=1, p=0.6, size=n)     # Binaria\n",
    "X4 = np.random.binomial(n=1, p=0.25, size=n)    # Binaria\n",
    "\n",
    "# Generamos la asignación al tratamiento D ~ Bernoulli(0.5)\n",
    "D = np.random.binomial(n=1, p=0.5, size=n)\n",
    "print(D)\n",
    "\n",
    "epsilon = np.random.normal(loc=0, scale=1, size=n) \n",
    "Y = 2*D + 0.5*X1 - 0.3*X2 + 0.2*X3 + epsilon\n",
    "#print(epsilon)"
   ]
  },
  {
   "cell_type": "code",
   "execution_count": 5,
   "id": "4e6d6c95",
   "metadata": {},
   "outputs": [],
   "source": [
    "#creamos dataframe\n",
    "data = {\n",
    "    'Y': Y,\n",
    "    'D': D,\n",
    "    'X1': X1,\n",
    "    'X2': X2,\n",
    "    'X3': X3,\n",
    "    'X4': X4\n",
    "}\n",
    "df = pd.DataFrame(data)\n",
    "\n",
    "#df.head()"
   ]
  },
  {
   "cell_type": "code",
   "execution_count": 6,
   "id": "c5c6d4d0",
   "metadata": {},
   "outputs": [],
   "source": [
    "# Separamos los datos en grupo de tratamiento y control para la comparación\n",
    "treatment_group = df[df['D'] == 1]\n",
    "control_group = df[df['D'] == 0]\n",
    "\n",
    "#print(treatment_group)\n",
    "#print(control_group)\n"
   ]
  },
  {
   "cell_type": "code",
   "execution_count": 7,
   "id": "cc728c23",
   "metadata": {},
   "outputs": [
    {
     "name": "stdout",
     "output_type": "stream",
     "text": [
      "Covariable: X1\n",
      "  Media Grupo Tratamiento: 15.2449\n",
      "  Media Grupo Control:     14.9554\n",
      "  P-value:                 0.3501\n",
      "  No hay diferencia estadística. grupos  balanceados\n",
      "--------------------------------------------------\n",
      "Covariable: X2\n",
      "  Media Grupo Tratamiento: 10.1545\n",
      "  Media Grupo Control:     10.1294\n",
      "  P-value:                 0.8428\n",
      "  No hay diferencia estadística. grupos  balanceados\n",
      "--------------------------------------------------\n",
      "Covariable: X3\n",
      "  Media Grupo Tratamiento: 0.6004\n",
      "  Media Grupo Control:     0.5801\n",
      "  P-value:                 0.5140\n",
      "  No hay diferencia estadística. grupos  balanceados\n",
      "--------------------------------------------------\n",
      "Covariable: X4\n",
      "  Media Grupo Tratamiento: 0.1988\n",
      "  Media Grupo Control:     0.2520\n",
      "  P-value:                 0.0445\n",
      "   Hay una diferencia estadística. grupos NO  balanceados\n",
      "--------------------------------------------------\n"
     ]
    }
   ],
   "source": [
    "covariates = ['X1', 'X2', 'X3', 'X4']\n",
    "\n",
    "# Iteramos sobre cada covariable para realizar el t-test\n",
    "for cov in covariates:\n",
    "    # Comparamos la media de la covariable 'cov' en el grupo de tratamiento vs. control\n",
    "    t_stat, p_value = stats.ttest_ind(treatment_group[cov], control_group[cov])\n",
    "    \n",
    "    print(f\"Covariable: {cov}\")\n",
    "    print(f\"  Media Grupo Tratamiento: {treatment_group[cov].mean():.4f}\")\n",
    "    print(f\"  Media Grupo Control:     {control_group[cov].mean():.4f}\")\n",
    "    print(f\"  P-value:                 {p_value:.4f}\")\n",
    "    \n",
    "    if p_value > 0.05:\n",
    "        print(\"  No hay diferencia estadística. grupos  balanceados\")\n",
    "    else:\n",
    "        print(\"   Hay una diferencia estadística. grupos NO  balanceados\")\n",
    "    print(\"-\" * 50)"
   ]
  },
  {
   "cell_type": "markdown",
   "id": "1c686d1b",
   "metadata": {},
   "source": [
    "3.2 Estimating the Average Treatment Effect"
   ]
  }
 ],
 "metadata": {
  "kernelspec": {
   "display_name": "prueba",
   "language": "python",
   "name": "python3"
  },
  "language_info": {
   "codemirror_mode": {
    "name": "ipython",
    "version": 3
   },
   "file_extension": ".py",
   "mimetype": "text/x-python",
   "name": "python",
   "nbconvert_exporter": "python",
   "pygments_lexer": "ipython3",
   "version": "3.10.16"
  }
 },
 "nbformat": 4,
 "nbformat_minor": 5
}
