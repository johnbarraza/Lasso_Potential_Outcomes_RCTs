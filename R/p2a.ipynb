{
 "cells": [
  {
   "cell_type": "code",
   "execution_count": null,
   "id": "a1e37e93",
   "metadata": {
    "vscode": {
     "languageId": "r"
    }
   },
   "outputs": [],
   "source": [
    "# 1. Cargar librerías\n",
    "# Asegúrate de haberlas instalado primero con install.packages()\n",
    "library(readr)\n",
    "library(glmnet)\n",
    "library(dplyr)\n",
    "library(ggplot2)"
   ]
  },
  {
   "cell_type": "code",
   "execution_count": 2,
   "id": "db2b7c21",
   "metadata": {
    "vscode": {
     "languageId": "r"
    }
   },
   "outputs": [
    {
     "name": "stdout",
     "output_type": "stream",
     "text": [
      "[1] \"Dimensiones del dataset sin NAs: 625 filas, 100 columnas\"\n"
     ]
    }
   ],
   "source": [
    "# 2. Cargar y limpiar los datos\n",
    "# Se asume que el archivo CSV está en tu directorio de trabajo\n",
    "data <- read.csv(\"Districtwise_literacy_rates.csv\", sep = \";\")\n",
    "\n",
    "# Tarea 1: Mantener solo observaciones sin valores faltantes (0.25 puntos)\n",
    "data <- na.omit(data)\n",
    "print(paste(\"Dimensiones del dataset sin NAs:\", dim(data)[1], \"filas,\", dim(data)[2], \"columnas\"))\n",
    "\n"
   ]
  },
  {
   "cell_type": "code",
   "execution_count": null,
   "id": "100958bd",
   "metadata": {
    "vscode": {
     "languageId": "r"
    }
   },
   "outputs": [
    {
     "data": {
      "image/png": "[encoded data removed]",
      "text/plain": [
       "Plot with title \"Tasa de Alfabetización Masculina\""
      ]
     },
     "metadata": {
      "image/png": {
       "height": 420,
       "width": 420
      }
     },
     "output_type": "display_data"
    }
   ],
   "source": [
    "# Tarea 2: Crear histogramas y comentar (1 punto)\n",
    "par(mfrow = c(1, 2)) # Prepara el área de ploteo para mostrar 2 gráficos\n",
    "hist(data$FEMALE_LIT, \n",
    "     main = \"Tasa de Alfabetización Femenina\", \n",
    "     xlab = \"Tasa de Alfabetización (%)\", \n",
    "     ylab = \"Frecuencia\", \n",
    "     col = \"blue\", \n",
    "     breaks = 20)\n",
    "hist(data$MALE_LIT, \n",
    "     main = \"Tasa de Alfabetización Masculina\", \n",
    "     xlab = \"Tasa de Alfabetización (%)\", \n",
    "     ylab = \"Frecuencia\", \n",
    "     col = \"red\", \n",
    "     breaks = 20)\n",
    "par(mfrow = c(1, 1)) # Restaura el área de ploteo a un solo gráfico\n",
    "\n",
    "\n",
    "\n"
   ]
  },
  {
   "cell_type": "markdown",
   "id": "e36e1b1a",
   "metadata": {},
   "source": [
    "En promedio, la tasa de alfabetización masculina es mayor que la femenina. \n",
    "Ambas distribuciones están sesgadas hacia la izquierda (la mayoría de los distritos tienen tasas de alfabetización altas), pero el sesgo es más pronunciado en los hombres, indicando que valores muy altos son más comunes en hombres que en mujeres."
   ]
  },
  {
   "cell_type": "code",
   "execution_count": 4,
   "id": "31d7c1e0",
   "metadata": {
    "vscode": {
     "languageId": "r"
    }
   },
   "outputs": [
    {
     "name": "stdout",
     "output_type": "stream",
     "text": [
      "R^2 para el modelo de baja dimensión: 0.4609164 \n"
     ]
    }
   ],
   "source": [
    "# 3. Preparación para los modelos\n",
    "# Seleccionar variables relevantes para el modelo de baja dimensión.\n",
    "# Puedes añadir o quitar las que consideres.\n",
    "data_low_dim <- select(data, STATCD, DISTCD, TOTPOPULAT, P_URB_POP, POPULATION_0_6,\n",
    "                 GROWTHRATE, SEXRATIO, P_SC_POP, P_ST_POP, AREA_SQKM, TOT_6_10_15,\n",
    "                 TOT_11_13_15, SCHTOT, SCHTOTG, SCHTOTP, SCHTOTGR)\n",
    "\n",
    "# Definir la matriz de predictores (X) y la variable respuesta (y)\n",
    "X_low <- as.matrix(data_low_dim)\n",
    "y <- data$FEMALE_LIT\n",
    "\n",
    "# Dividir los datos en conjuntos de entrenamiento (80%) y prueba (20%)\n",
    "set.seed(1234) # Para reproducibilidad\n",
    "train_idx <- sample(1:nrow(data), 0.8 * nrow(data))\n",
    "\n",
    "X_train_low <- X_low[train_idx, ]\n",
    "X_test_low <- X_low[-train_idx, ]\n",
    "y_train <- y[train_idx]\n",
    "y_test <- y[-train_idx]\n",
    "\n",
    "# Tarea 3: Estimar modelo de baja dimensión y calcular R^2 (2 puntos)\n",
    "lasso_low <- cv.glmnet(X_train_low, y_train, alpha = 1)\n",
    "y_pred_low <- predict(lasso_low, newx = X_test_low, s = \"lambda.min\")\n",
    "r2_low <- 1 - sum((y_test - y_pred_low)^2) / sum((y_test - mean(y_test))^2)\n",
    "cat(\"R^2 para el modelo de baja dimensión:\", r2_low, \"\\n\")\n",
    "\n"
   ]
  },
  {
   "cell_type": "code",
   "execution_count": 5,
   "id": "6e5059b8",
   "metadata": {
    "vscode": {
     "languageId": "r"
    }
   },
   "outputs": [
    {
     "name": "stdout",
     "output_type": "stream",
     "text": [
      "R^2 para el modelo de alta dimensión: 0.6447344 \n"
     ]
    }
   ],
   "source": [
    "# Tarea 4: Estimar modelo de alta dimensión (flexible) y calcular R^2 (2 puntos)\n",
    "# Crear interacciones y términos cuadráticos a partir de las variables de baja dimensión\n",
    "X_high <- model.matrix(~ .^2 + I(TOTPOPULAT^2) + I(P_URB_POP^2) + \n",
    "                       I(POPULATION_0_6^2), data = as.data.frame(X_low))[,-1]\n",
    "\n",
    "# Dividir el nuevo set de datos flexible\n",
    "X_train_high <- X_high[train_idx, ]\n",
    "X_test_high <- X_high[-train_idx, ]\n",
    "\n",
    "# Entrenar y evaluar el modelo de alta dimensión\n",
    "lasso_high <- cv.glmnet(X_train_high, y_train, alpha = 1)\n",
    "y_pred_high <- predict(lasso_high, newx = X_test_high, s = \"lambda.min\")\n",
    "r2_high <- 1 - sum((y_test - y_pred_high)^2) / sum((y_test - mean(y_test))^2)\n",
    "cat(\"R^2 para el modelo de alta dimensión:\", r2_high, \"\\n\")\n",
    "\n",
    "\n"
   ]
  },
  {
   "cell_type": "code",
   "execution_count": null,
   "id": "f1d8e32e",
   "metadata": {
    "vscode": {
     "languageId": "r"
    }
   },
   "outputs": [
    {
     "data": {
      "image/png": "[encoded data removed]",
      "text/plain": [
       "Plot with title \"Ruta de Coeficientes de LASSO\""
      ]
     },
     "metadata": {
      "image/png": {
       "height": 420,
       "width": 420
      }
     },
     "output_type": "display_data"
    }
   ],
   "source": [
    "# Tarea 5: Graficar la ruta de coeficientes (2.75 puntos)\n",
    "lambda_seq <- 10^seq(4, -3, length = 100) # Rango de lambda de 10,000 a 0.001\n",
    "lasso_path <- glmnet(X_train_high, y_train, alpha = 1, lambda = lambda_seq)\n",
    "\n",
    "# Contar coeficientes no nulos para cada lambda (excluyendo el intercepto)\n",
    "nonzero_coefs <- apply(coef(lasso_path), 2, function(x) sum(x != 0) - 1)\n",
    "\n",
    "# Graficar\n",
    "plot(log10(lambda_seq), nonzero_coefs, type = \"l\", col = \"blue\", lwd = 2,\n",
    "     xlab = \"log10(Lambda)\", ylab = \"Número de Coeficientes No Nulos\",\n",
    "     main = \"Ruta de Coeficientes de LASSO\")\n",
    "grid()\n",
    "\n"
   ]
  },
  {
   "cell_type": "markdown",
   "id": "2546cde5",
   "metadata": {},
   "source": [
    "El gráfico muestra cómo el número de variables (coeficientes no nulos) que el modelo considera importantes disminuye a medida que aumenta el parámetro de penalización lambda. Con un lambda muy grande (a la izquierda), el modelo es muy simple y selecciona pocas o ninguna variable. A medida que lambda disminuye (hacia la derecha), el modelo se vuelve más complejo, incluyendo más variables. Esto ilustra la capacidad de LASSO para realizar selección de variables."
   ]
  }
 ],
 "metadata": {
  "kernelspec": {
   "display_name": "R",
   "language": "R",
   "name": "ir"
  },
  "language_info": {
   "codemirror_mode": "r",
   "file_extension": ".r",
   "mimetype": "text/x-r-source",
   "name": "R",
   "pygments_lexer": "r",
   "version": "4.3.3"
  }
 },
 "nbformat": 4,
 "nbformat_minor": 5
}
