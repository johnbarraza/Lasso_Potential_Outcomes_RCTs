{
 "cells": [
  {
   "cell_type": "code",
   "execution_count": 12,
   "id": "26e6babb-700f-4cae-a13b-1ad1c8e6fab9",
   "metadata": {},
   "outputs": [
    {
     "name": "stderr",
     "output_type": "stream",
     "text": [
      "also installing the dependencies 'cli', 'glue', 'lifecycle', 'pillar', 'rlang', 'tibble', 'tidyselect', 'vctrs'\n",
      "\n",
      "Warning message:\n",
      "\"unable to access index for repository https://cran.r-project.org/bin/windows/contrib/3.6:\n",
      "  no fue posible abrir la URL 'https://cran.r-project.org/bin/windows/contrib/3.6/PACKAGES'\"Packages which are only available in source form, and may need\n",
      "  compilation of C/C++/Fortran: 'cli' 'glue' 'rlang' 'tibble'\n",
      "  'tidyselect' 'vctrs' 'dplyr'\n"
     ]
    },
    {
     "name": "stdout",
     "output_type": "stream",
     "text": [
      "  These will not be installed\n"
     ]
    },
    {
     "name": "stderr",
     "output_type": "stream",
     "text": [
      "installing the source packages 'lifecycle', 'pillar'\n",
      "\n",
      "Warning message in install.packages(\"dplyr\"):\n",
      "\"installation of package 'lifecycle' had non-zero exit status\"Warning message in install.packages(\"dplyr\"):\n",
      "\"installation of package 'pillar' had non-zero exit status\"Warning message:\n",
      "\"package 'MASS' is not available (for R version 3.6.1)\"Warning message:\n",
      "\"unable to access index for repository https://cran.r-project.org/bin/windows/contrib/3.6:\n",
      "  no fue posible abrir la URL 'https://cran.r-project.org/bin/windows/contrib/3.6/PACKAGES'\""
     ]
    }
   ],
   "source": [
    "install.packages(\"dplyr\")\n",
    "install.packages(\"MASS\")\n"
   ]
  },
  {
   "cell_type": "code",
   "execution_count": 13,
   "id": "4f29ea08-bb8b-4f09-a902-ad5227a9e013",
   "metadata": {},
   "outputs": [
    {
     "name": "stderr",
     "output_type": "stream",
     "text": [
      "Warning message:\n",
      "\"package 'MASS' is not available (for R version 3.6.1)\"Warning message:\n",
      "\"unable to access index for repository https://cran.r-project.org/bin/windows/contrib/3.6:\n",
      "  no fue posible abrir la URL 'https://cran.r-project.org/bin/windows/contrib/3.6/PACKAGES'\""
     ]
    }
   ],
   "source": [
    "library(MASS)"
   ]
  },
  {
   "cell_type": "code",
   "execution_count": 7,
   "id": "928f1d80-8d92-4679-9362-b1b59691a44f",
   "metadata": {},
   "outputs": [
    {
     "ename": "ERROR",
     "evalue": "Error: package or namespace load failed for 'dplyr' in loadNamespace(j <- i[[1L]], c(lib.loc, .libPaths()), versionCheck = vI[[j]]):\n there is no package called 'pillar'\n",
     "output_type": "error",
     "traceback": [
      "Error: package or namespace load failed for 'dplyr' in loadNamespace(j <- i[[1L]], c(lib.loc, .libPaths()), versionCheck = vI[[j]]):\n there is no package called 'pillar'\nTraceback:\n",
      "1. library(dplyr)",
      "2. tryCatch({\n .     attr(package, \"LibPath\") <- which.lib.loc\n .     ns <- loadNamespace(package, lib.loc)\n .     env <- attachNamespace(ns, pos = pos, deps, exclude, include.only)\n . }, error = function(e) {\n .     P <- if (!is.null(cc <- conditionCall(e))) \n .         paste(\" in\", deparse(cc)[1L])\n .     else \"\"\n .     msg <- gettextf(\"package or namespace load failed for %s%s:\\n %s\", \n .         sQuote(package), P, conditionMessage(e))\n .     if (logical.return) \n .         message(paste(\"Error:\", msg), domain = NA)\n .     else stop(msg, call. = FALSE, domain = NA)\n . })",
      "3. tryCatchList(expr, classes, parentenv, handlers)",
      "4. tryCatchOne(expr, names, parentenv, handlers[[1L]])",
      "5. value[[3L]](cond)",
      "6. stop(msg, call. = FALSE, domain = NA)"
     ]
    }
   ],
   "source": [
    "library(dplyr)"
   ]
  },
  {
   "cell_type": "markdown",
   "id": "a314099a-d688-42a3-8273-2fe6621e1447",
   "metadata": {},
   "source": [
    "creacion de variables y la var dep"
   ]
  },
  {
   "cell_type": "markdown",
   "id": "8944ac69-4650-4751-9f13-167fa5980c1f",
   "metadata": {},
   "source": [
    "**3.1 Data Simulation**"
   ]
  },
  {
   "cell_type": "code",
   "execution_count": 5,
   "id": "a7b81673-a397-4fa9-8504-1b87cf96a3da",
   "metadata": {},
   "outputs": [],
   "source": [
    "\n",
    "set.seed(42) \n",
    "n <- 1000\n",
    "\n",
    "# Generamos las variables\n",
    "X1 <- rnorm(n, mean = 15, sd = 5)    # Continua\n",
    "X2 <- rnorm(n, mean = 10, sd = 2)    # Continua\n",
    "X3 <- rbinom(n, size = 1, prob = 0.6) # Binaria\n",
    "X4 <- rbinom(n, size = 1, prob = 0.25) # Binaria\n",
    "\n",
    "# Generamos la asignación al tratamiento D ~ Bern(0.5)\n",
    "D <- rbinom(n, size = 1, prob = 0.5)\n",
    "\n",
    "\n",
    "# Generamos el término de error\n",
    "epsilon <- rnorm(n, mean = 0, sd = 1)\n",
    "\n",
    "# Generamos Y\n",
    "Y <- 2*D + 0.5*X1 - 0.3*X2 + 0.2*X3 + epsilon\n"
   ]
  },
  {
   "cell_type": "markdown",
   "id": "6f6ad240-0879-47ed-b469-ccc20bc83a17",
   "metadata": {},
   "source": [
    "crear el data frame"
   ]
  },
  {
   "cell_type": "code",
   "execution_count": 10,
   "id": "c9a5f935-69af-41d2-9a83-8f5129d67048",
   "metadata": {},
   "outputs": [],
   "source": [
    "df <- data.frame(\n",
    "  Y = Y,\n",
    "  D = D,\n",
    "  X1 = X1,\n",
    "  X2 = X2,\n",
    "  X3 = X3,\n",
    "  X4 = X4\n",
    ")\n"
   ]
  },
  {
   "cell_type": "code",
   "execution_count": 11,
   "id": "5ce526f0-8399-4a53-bdb8-ac8e52f21aeb",
   "metadata": {},
   "outputs": [],
   "source": [
    "treatment_group <- df[df$D == 1, ]\n",
    "control_group <- df[df$D == 0, ]\n"
   ]
  },
  {
   "cell_type": "code",
   "execution_count": 15,
   "id": "5e8bf06c-0e87-46a4-b2f3-6f35c9c734a0",
   "metadata": {},
   "outputs": [],
   "source": [
    "balance_check <- function(var, var_name) {\n",
    "  t_result <- t.test(treatment_group[[var_name]], control_group[[var_name]], var.equal = FALSE)\n",
    "  cat(\"Balance check for\", var_name, \":\\n\")\n",
    "  cat(\"Media (Treatment):\", mean(treatment_group[[var_name]]), \"\\n\")\n",
    "  cat(\"Media (Control):\", mean(control_group[[var_name]]), \"\\n\")\n",
    "  cat(\"Diferencia (Treatment - Control):\", mean(treatment_group[[var_name]]) - mean(control_group[[var_name]]), \"\\n\")\n",
    "  cat(\"p-value:\", t_result$p.value, \"\\n\")\n",
    "  cat(\"--------------------------------\\n\")\n",
    "}"
   ]
  },
  {
   "cell_type": "markdown",
   "id": "63749024-c5a9-4405-8718-eae9d9a5ac16",
   "metadata": {},
   "source": [
    "Balance check para covariables x1 , x2 , x3 , x4"
   ]
  },
  {
   "cell_type": "code",
   "execution_count": 16,
   "id": "00b4c631-376d-455f-a8d6-f1fc0aa845bf",
   "metadata": {},
   "outputs": [
    {
     "name": "stdout",
     "output_type": "stream",
     "text": [
      "Balance check for X1 :\n",
      "Mean (Treatment): 14.88912 \n",
      "Mean (Control): 14.85271 \n",
      "Difference (Treatment - Control): 0.0364092 \n",
      "p-value: 0.9086493 \n",
      "--------------------------------\n",
      "Balance check for X2 :\n",
      "Mean (Treatment): 9.956655 \n",
      "Mean (Control): 10.02194 \n",
      "Difference (Treatment - Control): -0.06528648 \n",
      "p-value: 0.6008966 \n",
      "--------------------------------\n",
      "Balance check for X3 :\n",
      "Mean (Treatment): 0.5891784 \n",
      "Mean (Control): 0.5768463 \n",
      "Difference (Treatment - Control): 0.01233205 \n",
      "p-value: 0.6928549 \n",
      "--------------------------------\n",
      "Balance check for X4 :\n",
      "Mean (Treatment): 0.244489 \n",
      "Mean (Control): 0.255489 \n",
      "Difference (Treatment - Control): -0.01100004 \n",
      "p-value: 0.6882805 \n",
      "--------------------------------\n"
     ]
    }
   ],
   "source": [
    "balance_check(\"X1\", \"X1\")\n",
    "balance_check(\"X2\", \"X2\")\n",
    "balance_check(\"X3\", \"X3\")\n",
    "balance_check(\"X4\", \"X4\")"
   ]
  },
  {
   "cell_type": "markdown",
   "id": "dd6d374c-ac09-4328-801a-b1024e9ef968",
   "metadata": {},
   "source": [
    "**3.2 Estimating the Average Treatment Effect**"
   ]
  },
  {
   "cell_type": "markdown",
   "id": "e5616ecc-f3dd-4e7c-9613-3d50cc10f940",
   "metadata": {},
   "source": [
    "regresion simple"
   ]
  },
  {
   "cell_type": "code",
   "execution_count": 17,
   "id": "3b592c52-e5f3-4529-8b89-ee533de631ff",
   "metadata": {},
   "outputs": [],
   "source": [
    "model <- lm(Y ~ D, data = df)\n",
    "resumen1 <- summary(model)\n",
    "ate1 <- coef(model)[\"D\"]\n",
    "ate1se<- summary(model)$coefficients[\"D\", \"Std. Error\"]"
   ]
  },
  {
   "cell_type": "markdown",
   "id": "8fd52930-85d6-4582-b7e5-fd3f7726eeec",
   "metadata": {},
   "source": [
    "Y∼D+X1+X2+X3+X4"
   ]
  },
  {
   "cell_type": "code",
   "execution_count": 23,
   "id": "4f3c4d4e-f61d-427e-b12c-fe065585d6ce",
   "metadata": {},
   "outputs": [],
   "source": [
    "\n",
    "multiple <- lm(Y ~ D + X1 + X2 + X3 + X4, data = df)\n",
    "resumen2 <- summary(multiple)\n",
    "ate2 <- coef(multiple)[\"D\"]\n",
    "ate2se <- summary(multiple)$coefficients[\"D\", \"Std. Error\"]"
   ]
  },
  {
   "cell_type": "markdown",
   "id": "03fb4227-a513-4c7d-8316-4a99e3af1080",
   "metadata": {},
   "source": [
    "representacion de resultados"
   ]
  },
  {
   "cell_type": "code",
   "execution_count": 25,
   "id": "682a1fe2-7a69-41aa-b4a8-f36e18da8f78",
   "metadata": {},
   "outputs": [
    {
     "name": "stdout",
     "output_type": "stream",
     "text": [
      "regresion simple  (Y ~ D):\n",
      "ATE1 (D): 2.116579 \n",
      "se: 0.1769537 \n",
      "--------------------------------\n",
      "regresion multiple  (Y ~ D + X1 + X2 + X3 + X4):\n",
      "ATE2 ( D): 2.075791 \n",
      "Se: 0.06433462 \n",
      "--------------------------------\n"
     ]
    }
   ],
   "source": [
    "\n",
    "cat(\"regresion simple  (Y ~ D):\\n\")\n",
    "cat(\"ATE1 (D):\", ate1, \"\\n\")\n",
    "cat(\"se:\",ate1se, \"\\n\")\n",
    "cat(\"--------------------------------\\n\")\n",
    "\n",
    "cat(\"regresion multiple  (Y ~ D + X1 + X2 + X3 + X4):\\n\")\n",
    "cat(\"ATE2 ( D):\", ate2, \"\\n\")\n",
    "cat(\"Se:\", ate2se, \"\\n\")\n",
    "cat(\"--------------------------------\\n\")\n",
    "\n"
   ]
  },
  {
   "cell_type": "code",
   "execution_count": 26,
   "id": "b615f8a5-c5ec-49ba-937e-8878ff7a5806",
   "metadata": {},
   "outputs": [
    {
     "name": "stdout",
     "output_type": "stream",
     "text": [
      "Comparacion:\n",
      "Cambia?  si \n",
      "diferencia ATE  (Multiple - Simple): -0.04078749 \n",
      "Se (Multiple - Simple): 0.112619 \n"
     ]
    }
   ],
   "source": [
    "cat(\"Comparacion:\\n\")\n",
    "cat(\"Cambia? \", ifelse(ate1 != ate2, \"si\", \"No\"), \"\\n\")\n",
    "cat(\"diferencia ATE  (Multiple - Simple):\", ate2 - ate1, \"\\n\")\n",
    "cat(\"Se (Multiple - Simple):\", ate1se - ate2se, \"\\n\")"
   ]
  },
  {
   "cell_type": "markdown",
   "id": "2aa4a8f1-5e2d-411f-8df9-7faf7979e27f",
   "metadata": {},
   "source": [
    "Los valores del ATE no varian mucho, los valores que tomó fue de 2.2014 para el modelo simple y para el modelo múltiple fue 2.0606. Mientras que el valor verdadero es 2. Esto se debe a que la asignación del D fue aletoria y no esta correlacionada con las X.\n",
    "\n",
    "Acerca de lo que pasa con los errores estandares es que bajaron de 0.173 para el modelo simple y 0.062 el modelo multiple. Lo que pasa es que las covariables son buenas predictoras del Y (asi es nuestro PGD), por lo que al incluirlos reduicmos la magnitud del error residual."
   ]
  },
  {
   "cell_type": "markdown",
   "id": "900071e9-dc35-40a0-8706-420c7d7e338a",
   "metadata": {},
   "source": [
    "**3.3 LASSO and Variable Selection**"
   ]
  },
  {
   "cell_type": "code",
   "execution_count": 27,
   "id": "eb0aa3b8-bc84-4be8-81e8-b4b32fd3eee0",
   "metadata": {},
   "outputs": [
    {
     "name": "stderr",
     "output_type": "stream",
     "text": [
      "also installing the dependencies 'shape', 'RcppEigen'\n",
      "\n",
      "Warning message:\n",
      "\"unable to access index for repository https://cran.r-project.org/bin/windows/contrib/3.6:\n",
      "  no fue posible abrir la URL 'https://cran.r-project.org/bin/windows/contrib/3.6/PACKAGES'\"Packages which are only available in source form, and may need\n",
      "  compilation of C/C++/Fortran: 'RcppEigen' 'glmnet'\n"
     ]
    },
    {
     "name": "stdout",
     "output_type": "stream",
     "text": [
      "  These will not be installed\n"
     ]
    },
    {
     "name": "stderr",
     "output_type": "stream",
     "text": [
      "installing the source package 'shape'\n",
      "\n"
     ]
    }
   ],
   "source": [
    "install.packages(\"glmnet\")"
   ]
  },
  {
   "cell_type": "code",
   "execution_count": 28,
   "id": "b21dd5fc-066d-451d-b10e-8f0092504a8d",
   "metadata": {},
   "outputs": [
    {
     "name": "stderr",
     "output_type": "stream",
     "text": [
      "Loading required package: Matrix\n",
      "Loading required package: foreach\n",
      "Loaded glmnet 2.0-16\n",
      "\n"
     ]
    }
   ],
   "source": [
    "library(glmnet)"
   ]
  },
  {
   "cell_type": "markdown",
   "id": "f93edd71-8457-4fb3-b0a6-29c19f43a554",
   "metadata": {},
   "source": [
    "**Lasso exluyendo treatment**"
   ]
  },
  {
   "cell_type": "code",
   "execution_count": 33,
   "id": "ae51480d-dcfe-4278-8eb8-802112938434",
   "metadata": {},
   "outputs": [
    {
     "name": "stdout",
     "output_type": "stream",
     "text": [
      "Lambda min: 0.01667422 \n",
      "Covariables seleccionadas con el lambda minimo : X1 X2 X3 \n"
     ]
    }
   ],
   "source": [
    "\n",
    "x <- as.matrix(df[, c(\"X1\", \"X2\", \"X3\", \"X4\")])\n",
    "y <- df$Y\n",
    "\n",
    "cvlasso <- cv.glmnet(x, y, alpha = 1)\n",
    "lam_min <- cvlasso$lambda.min\n",
    "cat(\"Lambda min:\", lam_min, \"\\n\")\n",
    "\n",
    "coef <- coef(cvlasso, s = \"lambda.min\")\n",
    "\n",
    "covsel <- rownames(coef)[coef[,1] != 0][-1]\n",
    "cat(\"Covariables seleccionadas con el lambda minimo :\", covsel, \"\\n\")"
   ]
  },
  {
   "cell_type": "markdown",
   "id": "e40f645c-633f-4f73-b9bb-4e1b48b0a3f8",
   "metadata": {},
   "source": [
    "Y∼D+Xselected"
   ]
  },
  {
   "cell_type": "code",
   "execution_count": 41,
   "id": "ac85a2c2-a8af-4354-a084-d69520e527a1",
   "metadata": {},
   "outputs": [
    {
     "name": "stdout",
     "output_type": "stream",
     "text": [
      "LASSO Selected Regression (Y ~ D + selected):\n",
      "ATE (coefficient of D): 2.07573 \n",
      "Standard Error: 0.06429741 \n"
     ]
    }
   ],
   "source": [
    "\n",
    "if (length(covsel) > 0) {\n",
    "  formula <- paste(\"Y ~ D +\", paste(covsel, collapse = \" + \"))\n",
    "} else {\n",
    "  formula <- \"Y ~ D\"\n",
    "}\n",
    "lasso <- lm(as.formula(formula), data = df)\n",
    "lassorep <- summary(lasso)\n",
    "lasso_ate <- lasso$coefficients[\"D\"]\n",
    "lasso_se <- lassorep$coefficients[\"D\", \"Std. Error\"]\n",
    "\n",
    "cat(\"LASSO Selected Regression (Y ~ D + selected):\\n\")\n",
    "cat(\"ATE (coefficient of D):\", lasso_ate, \"\\n\")\n",
    "cat(\"Standard Error:\", lasso_se, \"\\n\")\n"
   ]
  },
  {
   "cell_type": "markdown",
   "id": "3f1366e8-a15a-44f6-a3c5-7d7a39a8ea5a",
   "metadata": {},
   "source": [
    "**comparacion**"
   ]
  },
  {
   "cell_type": "code",
   "execution_count": 42,
   "id": "ee219281-3e9f-4718-8bfe-0b903751a44e",
   "metadata": {},
   "outputs": [
    {
     "name": "stdout",
     "output_type": "stream",
     "text": [
      "Comparacion:\n",
      "LASSO ATE vs Simple ATE: -0.04084869 \n",
      "LASSO ATE vs Multiple ATE : -6.120297e-05 \n",
      "LASSO SE vs Simple SE: -0.1126562 \n",
      "LASSO SE vs Multiple SE: -3.7203e-05 \n"
     ]
    }
   ],
   "source": [
    "\n",
    "# Comparison\n",
    "cat(\"Comparacion:\\n\")\n",
    "cat(\"LASSO ATE vs Simple ATE:\", lasso_ate - ate1, \"\\n\")\n",
    "cat(\"LASSO ATE vs Multiple ATE :\", lasso_ate - ate2, \"\\n\")\n",
    "cat(\"LASSO SE vs Simple SE:\", lasso_se - ate1se, \"\\n\")\n",
    "cat(\"LASSO SE vs Multiple SE:\", lasso_se - ate2se, \"\\n\")"
   ]
  },
  {
   "cell_type": "markdown",
   "id": "5f619d27-de84-46a3-9ed7-3196d98c2bd5",
   "metadata": {},
   "source": [
    "cuando se usa lasso , excluyendo la vairable x4 se logra casi la misma precision que usando la variable x4 en un modelo multiple . Es decir que esta era irrelevante , y ahi reside la funcionalidad del modelo en si. LASSO ATE vs Multiple ATE = -6.120297e-05"
   ]
  }
 ],
 "metadata": {
  "kernelspec": {
   "display_name": "R",
   "language": "R",
   "name": "ir"
  },
  "language_info": {
   "codemirror_mode": "r",
   "file_extension": ".r",
   "mimetype": "text/x-r-source",
   "name": "R",
   "pygments_lexer": "r",
   "version": "3.6.1"
  }
 },
 "nbformat": 4,
 "nbformat_minor": 5
}
