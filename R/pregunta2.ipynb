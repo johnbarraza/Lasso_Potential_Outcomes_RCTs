{
 "cells": [
  {
   "cell_type": "code",
   "execution_count": null,
   "id": "059cce1b-c6f1-47ac-9de7-8437c7cae671",
   "metadata": {
    "vscode": {
     "languageId": "r"
    }
   },
   "outputs": [],
   "source": [
    "install.packages(\"readr\", repos = \"https://cran.r-project.org\")\n",
    "install.packages(\"glmnet\", repos = \"https://cran.r-project.org\")\n",
    "install.packages(\"dplyr\", repos = \"https://cran.r-project.org\")\n",
    "install.packages(\"ggplot2\", repos = \"\thttps://ggplot2.tidyverse.org\")"
   ]
  },
  {
   "cell_type": "code",
   "execution_count": 2,
   "id": "467fb7fc-3ad8-4f89-9f03-e43c44040459",
   "metadata": {
    "vscode": {
     "languageId": "r"
    }
   },
   "outputs": [],
   "source": [
    "install.packages(\"ggplot2\", repos = \" https://github.com/tidyverse/ggplot2\")\n",
    "library(ggplot2)"
   ]
  },
  {
   "cell_type": "code",
   "execution_count": null,
   "id": "043a472c-abba-4991-81ee-f8883fd66e73",
   "metadata": {
    "vscode": {
     "languageId": "r"
    }
   },
   "outputs": [],
   "source": [
    "library(readr)\n",
    "library(glmnet)\n",
    "library(dplyr)\n",
    "library(ggplot2)"
   ]
  },
  {
   "cell_type": "code",
   "execution_count": 15,
   "id": "7874777f-5cc4-4839-80b1-2fb3f21351d9",
   "metadata": {
    "vscode": {
     "languageId": "r"
    }
   },
   "outputs": [],
   "source": [
    "data <- read.csv(\"Districtwise_literacy_rates.csv\", sep = \";\")"
   ]
  },
  {
   "cell_type": "code",
   "execution_count": 5,
   "id": "9f2e4316-079d-45a9-be2a-79788f010b68",
   "metadata": {
    "vscode": {
     "languageId": "r"
    }
   },
   "outputs": [],
   "source": [
    "data<- na.omit(data)"
   ]
  },
  {
   "cell_type": "code",
   "execution_count": 12,
   "id": "11af5ecd-6bb7-4879-a1a2-085508e9d3fa",
   "metadata": {
    "vscode": {
     "languageId": "r"
    }
   },
   "outputs": [
    {
     "data": {
      "text/html": [
       "<style>\n",
       ".list-inline {list-style: none; margin:0; padding: 0}\n",
       ".list-inline>li {display: inline-block}\n",
       ".list-inline>li:not(:last-child)::after {content: \"\\00b7\"; padding: 0 .5ex}\n",
       "</style>\n",
       "<ol class=list-inline><li>'STATCD'</li><li>'DISTCD'</li><li>'STATNAME'</li><li>'DISTNAME'</li><li>'DISTRICTS'</li><li>'BLOCKS'</li><li>'VILLAGES'</li><li>'TOTPOPULAT'</li><li>'P_URB_POP'</li><li>'POPULATION_0_6'</li><li>'GROWTHRATE'</li><li>'SEXRATIO'</li><li>'P_SC_POP'</li><li>'P_ST_POP'</li><li>'OVERALL_LI'</li><li>'FEMALE_LIT'</li><li>'MALE_LIT'</li><li>'AREA_SQKM'</li><li>'TOT_6_10_15'</li><li>'TOT_11_13_15'</li><li>'SCH1'</li><li>'SCH2'</li><li>'SCH3'</li><li>'SCH4'</li><li>'SCH5'</li><li>'SCH6'</li><li>'SCH7'</li><li>'SCH9'</li><li>'SCHTOT'</li><li>'SCH1G'</li><li>'SCH2G'</li><li>'SCH3G'</li><li>'SCH4G'</li><li>'SCH5G'</li><li>'SCH6G'</li><li>'SCH7G'</li><li>'SCH9G'</li><li>'SCHTOTG'</li><li>'SCH1P'</li><li>'SCH2P'</li><li>'SCH3P'</li><li>'SCH4P'</li><li>'SCH5P'</li><li>'SCH6P'</li><li>'SCH7P'</li><li>'SCH9P'</li><li>'SCHTOTP'</li><li>'SCH1GR'</li><li>'SCH2GR'</li><li>'SCH3GR'</li><li>'SCH4GR'</li><li>'SCH5GR'</li><li>'SCH6GR'</li><li>'SCH7GR'</li><li>'SCH9GR'</li><li>'SCHTOTGR'</li><li>'SCH1PR'</li><li>'SCH2PR'</li><li>'SCH3PR'</li><li>'SCH4PR'</li><li>'SCH5PR'</li><li>'SCH6PR'</li><li>'SCH7PR'</li><li>'SCH9PR'</li><li>'SELE1'</li><li>'SELE2'</li><li>'SELE3'</li><li>'SELE4'</li><li>'SELE5'</li><li>'SELE6'</li><li>'SELE7'</li><li>'SCOMP1'</li><li>'SCOMP2'</li><li>'SCOMP3'</li><li>'SCOMP4'</li><li>'SCOMP5'</li><li>'SCOMP6'</li><li>'SCOMP7'</li><li>'ENR501'</li><li>'ENR502'</li><li>'ENR503'</li><li>'ENR504'</li><li>'ENR505'</li><li>'ENR506'</li><li>'ENR507'</li><li>'ENR509'</li><li>'CLS1'</li><li>'CLS2'</li><li>'CLS3'</li><li>'CLS4'</li><li>'CLS5'</li><li>'CLS6'</li><li>'CLS7'</li><li>'TCH1'</li><li>'TCH2'</li><li>'TCH3'</li><li>'TCH4'</li><li>'TCH5'</li><li>'TCH6'</li><li>'TCH7'</li></ol>\n"
      ],
      "text/latex": [
       "\\begin{enumerate*}\n",
       "\\item 'STATCD'\n",
       "\\item 'DISTCD'\n",
       "\\item 'STATNAME'\n",
       "\\item 'DISTNAME'\n",
       "\\item 'DISTRICTS'\n",
       "\\item 'BLOCKS'\n",
       "\\item 'VILLAGES'\n",
       "\\item 'TOTPOPULAT'\n",
       "\\item 'P\\_URB\\_POP'\n",
       "\\item 'POPULATION\\_0\\_6'\n",
       "\\item 'GROWTHRATE'\n",
       "\\item 'SEXRATIO'\n",
       "\\item 'P\\_SC\\_POP'\n",
       "\\item 'P\\_ST\\_POP'\n",
       "\\item 'OVERALL\\_LI'\n",
       "\\item 'FEMALE\\_LIT'\n",
       "\\item 'MALE\\_LIT'\n",
       "\\item 'AREA\\_SQKM'\n",
       "\\item 'TOT\\_6\\_10\\_15'\n",
       "\\item 'TOT\\_11\\_13\\_15'\n",
       "\\item 'SCH1'\n",
       "\\item 'SCH2'\n",
       "\\item 'SCH3'\n",
       "\\item 'SCH4'\n",
       "\\item 'SCH5'\n",
       "\\item 'SCH6'\n",
       "\\item 'SCH7'\n",
       "\\item 'SCH9'\n",
       "\\item 'SCHTOT'\n",
       "\\item 'SCH1G'\n",
       "\\item 'SCH2G'\n",
       "\\item 'SCH3G'\n",
       "\\item 'SCH4G'\n",
       "\\item 'SCH5G'\n",
       "\\item 'SCH6G'\n",
       "\\item 'SCH7G'\n",
       "\\item 'SCH9G'\n",
       "\\item 'SCHTOTG'\n",
       "\\item 'SCH1P'\n",
       "\\item 'SCH2P'\n",
       "\\item 'SCH3P'\n",
       "\\item 'SCH4P'\n",
       "\\item 'SCH5P'\n",
       "\\item 'SCH6P'\n",
       "\\item 'SCH7P'\n",
       "\\item 'SCH9P'\n",
       "\\item 'SCHTOTP'\n",
       "\\item 'SCH1GR'\n",
       "\\item 'SCH2GR'\n",
       "\\item 'SCH3GR'\n",
       "\\item 'SCH4GR'\n",
       "\\item 'SCH5GR'\n",
       "\\item 'SCH6GR'\n",
       "\\item 'SCH7GR'\n",
       "\\item 'SCH9GR'\n",
       "\\item 'SCHTOTGR'\n",
       "\\item 'SCH1PR'\n",
       "\\item 'SCH2PR'\n",
       "\\item 'SCH3PR'\n",
       "\\item 'SCH4PR'\n",
       "\\item 'SCH5PR'\n",
       "\\item 'SCH6PR'\n",
       "\\item 'SCH7PR'\n",
       "\\item 'SCH9PR'\n",
       "\\item 'SELE1'\n",
       "\\item 'SELE2'\n",
       "\\item 'SELE3'\n",
       "\\item 'SELE4'\n",
       "\\item 'SELE5'\n",
       "\\item 'SELE6'\n",
       "\\item 'SELE7'\n",
       "\\item 'SCOMP1'\n",
       "\\item 'SCOMP2'\n",
       "\\item 'SCOMP3'\n",
       "\\item 'SCOMP4'\n",
       "\\item 'SCOMP5'\n",
       "\\item 'SCOMP6'\n",
       "\\item 'SCOMP7'\n",
       "\\item 'ENR501'\n",
       "\\item 'ENR502'\n",
       "\\item 'ENR503'\n",
       "\\item 'ENR504'\n",
       "\\item 'ENR505'\n",
       "\\item 'ENR506'\n",
       "\\item 'ENR507'\n",
       "\\item 'ENR509'\n",
       "\\item 'CLS1'\n",
       "\\item 'CLS2'\n",
       "\\item 'CLS3'\n",
       "\\item 'CLS4'\n",
       "\\item 'CLS5'\n",
       "\\item 'CLS6'\n",
       "\\item 'CLS7'\n",
       "\\item 'TCH1'\n",
       "\\item 'TCH2'\n",
       "\\item 'TCH3'\n",
       "\\item 'TCH4'\n",
       "\\item 'TCH5'\n",
       "\\item 'TCH6'\n",
       "\\item 'TCH7'\n",
       "\\end{enumerate*}\n"
      ],
      "text/markdown": [
       "1. 'STATCD'\n",
       "2. 'DISTCD'\n",
       "3. 'STATNAME'\n",
       "4. 'DISTNAME'\n",
       "5. 'DISTRICTS'\n",
       "6. 'BLOCKS'\n",
       "7. 'VILLAGES'\n",
       "8. 'TOTPOPULAT'\n",
       "9. 'P_URB_POP'\n",
       "10. 'POPULATION_0_6'\n",
       "11. 'GROWTHRATE'\n",
       "12. 'SEXRATIO'\n",
       "13. 'P_SC_POP'\n",
       "14. 'P_ST_POP'\n",
       "15. 'OVERALL_LI'\n",
       "16. 'FEMALE_LIT'\n",
       "17. 'MALE_LIT'\n",
       "18. 'AREA_SQKM'\n",
       "19. 'TOT_6_10_15'\n",
       "20. 'TOT_11_13_15'\n",
       "21. 'SCH1'\n",
       "22. 'SCH2'\n",
       "23. 'SCH3'\n",
       "24. 'SCH4'\n",
       "25. 'SCH5'\n",
       "26. 'SCH6'\n",
       "27. 'SCH7'\n",
       "28. 'SCH9'\n",
       "29. 'SCHTOT'\n",
       "30. 'SCH1G'\n",
       "31. 'SCH2G'\n",
       "32. 'SCH3G'\n",
       "33. 'SCH4G'\n",
       "34. 'SCH5G'\n",
       "35. 'SCH6G'\n",
       "36. 'SCH7G'\n",
       "37. 'SCH9G'\n",
       "38. 'SCHTOTG'\n",
       "39. 'SCH1P'\n",
       "40. 'SCH2P'\n",
       "41. 'SCH3P'\n",
       "42. 'SCH4P'\n",
       "43. 'SCH5P'\n",
       "44. 'SCH6P'\n",
       "45. 'SCH7P'\n",
       "46. 'SCH9P'\n",
       "47. 'SCHTOTP'\n",
       "48. 'SCH1GR'\n",
       "49. 'SCH2GR'\n",
       "50. 'SCH3GR'\n",
       "51. 'SCH4GR'\n",
       "52. 'SCH5GR'\n",
       "53. 'SCH6GR'\n",
       "54. 'SCH7GR'\n",
       "55. 'SCH9GR'\n",
       "56. 'SCHTOTGR'\n",
       "57. 'SCH1PR'\n",
       "58. 'SCH2PR'\n",
       "59. 'SCH3PR'\n",
       "60. 'SCH4PR'\n",
       "61. 'SCH5PR'\n",
       "62. 'SCH6PR'\n",
       "63. 'SCH7PR'\n",
       "64. 'SCH9PR'\n",
       "65. 'SELE1'\n",
       "66. 'SELE2'\n",
       "67. 'SELE3'\n",
       "68. 'SELE4'\n",
       "69. 'SELE5'\n",
       "70. 'SELE6'\n",
       "71. 'SELE7'\n",
       "72. 'SCOMP1'\n",
       "73. 'SCOMP2'\n",
       "74. 'SCOMP3'\n",
       "75. 'SCOMP4'\n",
       "76. 'SCOMP5'\n",
       "77. 'SCOMP6'\n",
       "78. 'SCOMP7'\n",
       "79. 'ENR501'\n",
       "80. 'ENR502'\n",
       "81. 'ENR503'\n",
       "82. 'ENR504'\n",
       "83. 'ENR505'\n",
       "84. 'ENR506'\n",
       "85. 'ENR507'\n",
       "86. 'ENR509'\n",
       "87. 'CLS1'\n",
       "88. 'CLS2'\n",
       "89. 'CLS3'\n",
       "90. 'CLS4'\n",
       "91. 'CLS5'\n",
       "92. 'CLS6'\n",
       "93. 'CLS7'\n",
       "94. 'TCH1'\n",
       "95. 'TCH2'\n",
       "96. 'TCH3'\n",
       "97. 'TCH4'\n",
       "98. 'TCH5'\n",
       "99. 'TCH6'\n",
       "100. 'TCH7'\n",
       "\n",
       "\n"
      ],
      "text/plain": [
       "  [1] \"STATCD\"         \"DISTCD\"         \"STATNAME\"       \"DISTNAME\"      \n",
       "  [5] \"DISTRICTS\"      \"BLOCKS\"         \"VILLAGES\"       \"TOTPOPULAT\"    \n",
       "  [9] \"P_URB_POP\"      \"POPULATION_0_6\" \"GROWTHRATE\"     \"SEXRATIO\"      \n",
       " [13] \"P_SC_POP\"       \"P_ST_POP\"       \"OVERALL_LI\"     \"FEMALE_LIT\"    \n",
       " [17] \"MALE_LIT\"       \"AREA_SQKM\"      \"TOT_6_10_15\"    \"TOT_11_13_15\"  \n",
       " [21] \"SCH1\"           \"SCH2\"           \"SCH3\"           \"SCH4\"          \n",
       " [25] \"SCH5\"           \"SCH6\"           \"SCH7\"           \"SCH9\"          \n",
       " [29] \"SCHTOT\"         \"SCH1G\"          \"SCH2G\"          \"SCH3G\"         \n",
       " [33] \"SCH4G\"          \"SCH5G\"          \"SCH6G\"          \"SCH7G\"         \n",
       " [37] \"SCH9G\"          \"SCHTOTG\"        \"SCH1P\"          \"SCH2P\"         \n",
       " [41] \"SCH3P\"          \"SCH4P\"          \"SCH5P\"          \"SCH6P\"         \n",
       " [45] \"SCH7P\"          \"SCH9P\"          \"SCHTOTP\"        \"SCH1GR\"        \n",
       " [49] \"SCH2GR\"         \"SCH3GR\"         \"SCH4GR\"         \"SCH5GR\"        \n",
       " [53] \"SCH6GR\"         \"SCH7GR\"         \"SCH9GR\"         \"SCHTOTGR\"      \n",
       " [57] \"SCH1PR\"         \"SCH2PR\"         \"SCH3PR\"         \"SCH4PR\"        \n",
       " [61] \"SCH5PR\"         \"SCH6PR\"         \"SCH7PR\"         \"SCH9PR\"        \n",
       " [65] \"SELE1\"          \"SELE2\"          \"SELE3\"          \"SELE4\"         \n",
       " [69] \"SELE5\"          \"SELE6\"          \"SELE7\"          \"SCOMP1\"        \n",
       " [73] \"SCOMP2\"         \"SCOMP3\"         \"SCOMP4\"         \"SCOMP5\"        \n",
       " [77] \"SCOMP6\"         \"SCOMP7\"         \"ENR501\"         \"ENR502\"        \n",
       " [81] \"ENR503\"         \"ENR504\"         \"ENR505\"         \"ENR506\"        \n",
       " [85] \"ENR507\"         \"ENR509\"         \"CLS1\"           \"CLS2\"          \n",
       " [89] \"CLS3\"           \"CLS4\"           \"CLS5\"           \"CLS6\"          \n",
       " [93] \"CLS7\"           \"TCH1\"           \"TCH2\"           \"TCH3\"          \n",
       " [97] \"TCH4\"           \"TCH5\"           \"TCH6\"           \"TCH7\"          "
      ]
     },
     "metadata": {},
     "output_type": "display_data"
    }
   ],
   "source": [
    "colnames(data)"
   ]
  },
  {
   "cell_type": "markdown",
   "id": "1a71d3d4-2e3f-41c1-b666-89e65487f65c",
   "metadata": {},
   "source": [
    "**b**"
   ]
  },
  {
   "cell_type": "code",
   "execution_count": 13,
   "id": "6a859349-0884-4a29-bbd3-24ca5c50f4c3",
   "metadata": {
    "vscode": {
     "languageId": "r"
    }
   },
   "outputs": [
    {
     "data": {
      "image/png": "[encoded data removed]",
      "text/plain": [
       "Plot with title \"Male Literacy Rate\""
      ]
     },
     "metadata": {
      "image/png": {
       "height": 420,
       "width": 420
      }
     },
     "output_type": "display_data"
    }
   ],
   "source": [
    "par(mfrow = c(1, 2))  # Set up a 1x2 plot grid\n",
    "hist(data$FEMALE_LIT, main = \"Female Literacy Rate\", \n",
    "     xlab = \"Female Literacy Rate (%)\", ylab = \"Frequency\", col = \"blue\", breaks = 20)\n",
    "hist(data$MALE_LIT, main = \"Male Literacy Rate\", \n",
    "     xlab = \"Male Literacy Rate (%)\", ylab = \"Frequency\", col = \"red\", breaks = 20)"
   ]
  },
  {
   "cell_type": "markdown",
   "id": "f1f70c31-2087-4a1b-b87f-5bef09c28b69",
   "metadata": {},
   "source": [
    "COMENTARIO:el hombre tiene una mayor tasa de educacion que la mujer en promedio . ya que su distribuccion presenta una cola hacia la derecha . mientra que de la mujer tiene menos asimetria."
   ]
  },
  {
   "cell_type": "code",
   "execution_count": 14,
   "id": "9e754ca6-d5a2-4c76-b447-f27a7d6ecef2",
   "metadata": {
    "vscode": {
     "languageId": "r"
    }
   },
   "outputs": [
    {
     "ename": "ERROR",
     "evalue": "Error in eval(expr, envir, enclos): objeto 'data_complete' no encontrado\n",
     "output_type": "error",
     "traceback": [
      "Error in eval(expr, envir, enclos): objeto 'data_complete' no encontrado\nTraceback:\n",
      "1. data[, !(names(data_complete) %in% c(\"FEMALE_LIT\", \"STATNAME\", \n .     \"DISTNAME\", \"DISTRICTS\", \"BLOCKS\", \"VILLAGES\"))]",
      "2. `[.data.frame`(data, , !(names(data_complete) %in% c(\"FEMALE_LIT\", \n .     \"STATNAME\", \"DISTNAME\", \"DISTRICTS\", \"BLOCKS\", \"VILLAGES\")))",
      "3. names(data_complete) %in% c(\"FEMALE_LIT\", \"STATNAME\", \"DISTNAME\", \n .     \"DISTRICTS\", \"BLOCKS\", \"VILLAGES\")"
     ]
    }
   ],
   "source": [
    "X <- data[, !(names(data_complete) %in% c(\"FEMALE_LIT\", 'STATNAME','DISTNAME','DISTRICTS','BLOCKS','VILLAGES'))]\n",
    "y <- data$FEMALE_LIT"
   ]
  },
  {
   "cell_type": "code",
   "execution_count": 55,
   "id": "e6c6bae8-e8db-44a8-ba43-64a49cd50929",
   "metadata": {
    "vscode": {
     "languageId": "r"
    }
   },
   "outputs": [
    {
     "ename": "ERROR",
     "evalue": "Error in select(data, STATCD, DISTCD, TOTPOPULAT, P_URB_POP, POPULATION_0_6, : no se pudo encontrar la función \"select\"\n",
     "output_type": "error",
     "traceback": [
      "Error in select(data, STATCD, DISTCD, TOTPOPULAT, P_URB_POP, POPULATION_0_6, : no se pudo encontrar la función \"select\"\nTraceback:\n"
     ]
    }
   ],
   "source": [
    "datita <- select(data, STATCD, DISTCD, TOTPOPULAT, P_URB_POP, POPULATION_0_6,\n",
    "                 GROWTHRATE, SEXRATIO, P_SC_POP, P_ST_POP, AREA_SQKM, TOT_6_10_15,\n",
    "                 TOT_11_13_15, SCHTOT, SCHTOTG, SCHTOTP, SCHTOTGR)"
   ]
  },
  {
   "cell_type": "code",
   "execution_count": null,
   "id": "532e564f-0d7e-4553-aad3-1f16bc9c2988",
   "metadata": {
    "vscode": {
     "languageId": "r"
    }
   },
   "outputs": [],
   "source": [
    "X <- datita \n",
    "y <- data$FEMALE_LIT"
   ]
  },
  {
   "cell_type": "code",
   "execution_count": null,
   "id": "82288822-335d-494c-a97b-f40b16e8f9e9",
   "metadata": {
    "vscode": {
     "languageId": "r"
    }
   },
   "outputs": [],
   "source": [
    "set.seed(1234)\n",
    "train_idx <- sample(1:nrow(data_complete), 0.8 * nrow(data_complete))\n",
    "X_train <- as.matrix(X[train_idx, ])\n",
    "X_test <- as.matrix(X[-train_idx, ])\n",
    "y_train <- y[train_idx]\n",
    "y_test <- y[-train_idx]"
   ]
  },
  {
   "cell_type": "code",
   "execution_count": null,
   "id": "e2a619cc-6d02-42f3-b475-461a5f5638d2",
   "metadata": {
    "vscode": {
     "languageId": "r"
    }
   },
   "outputs": [],
   "source": [
    "lasso_low <- cv.glmnet(X_train, y_train, alpha = 1)\n",
    "y_pred_low <- predict(lasso_low, newx = X_test, s = \"lambda.min\")\n",
    "r2_low <- 1 - sum((y_test - y_pred_low)^2) / sum((y_test - mean(y_test))^2)\n",
    "cat(\"R^2 for low-dimensional model:\", r2_low, \"\\n\")"
   ]
  },
  {
   "cell_type": "markdown",
   "id": "ece8ff01-f691-4c52-8e01-e553118a253e",
   "metadata": {},
   "source": [
    "**D**"
   ]
  },
  {
   "cell_type": "code",
   "execution_count": null,
   "id": "c0dcfb18-8667-402c-8649-c23cac1dbe8b",
   "metadata": {
    "vscode": {
     "languageId": "r"
    }
   },
   "outputs": [],
   "source": [
    "X_high <- model.matrix(~ .^2 + I(TOTPOPULAT^2) + I(P_URB_POP^2) + \n",
    "                      I(POPULATION_0_6^2), data = as.data.frame(X))[,-1]\n",
    "X_high_train <- X_high[train_idx, ]\n",
    "X_high_test <- X_high[-train_idx, ]\n",
    "lasso_high <- cv.glmnet(X_high_train, y_train, alpha = 1)\n",
    "y_pred_high <- predict(lasso_high, newx = X_high_test, s = \"lambda.min\")\n",
    "r2_high <- 1 - sum((y_test - y_pred_high)^2) / sum((y_test - mean(y_test))^2)\n",
    "cat(\"R^2 for high-dimensional model:\", r2_high, \"\\n\")\n"
   ]
  },
  {
   "cell_type": "markdown",
   "id": "109d091c-31eb-4d05-a180-3210c7edc1bc",
   "metadata": {},
   "source": [
    "**e**"
   ]
  },
  {
   "cell_type": "code",
   "execution_count": null,
   "id": "a1e6741d-ce3f-4bbd-b64b-82a3a45235f8",
   "metadata": {
    "vscode": {
     "languageId": "r"
    }
   },
   "outputs": [],
   "source": [
    "lambda_seq <- 10^seq(4, -3, length = 100)\n",
    "lasso_path <- glmnet(X_high_train, y_train, alpha = 1, lambda = lambda_seq)\n",
    "nonzero_coefs <- apply(coef(lasso_path), 2, function(x) sum(x != 0) - 1)\n",
    "plot(log10(lambda_seq), nonzero_coefs, type = \"l\", col = \"blue\", lwd = 2,\n",
    "     xlab = \"log10(Lambda)\", ylab = \"Number of Nonzero Coefficients\",\n",
    "     main = \"LASSO Coefficient Path\")\n",
    "grid()"
   ]
  }
 ],
 "metadata": {
  "kernelspec": {
   "display_name": "R",
   "language": "R",
   "name": "ir"
  },
  "language_info": {
   "codemirror_mode": "r",
   "file_extension": ".r",
   "mimetype": "text/x-r-source",
   "name": "R",
   "pygments_lexer": "r",
   "version": "4.3.3"
  }
 },
 "nbformat": 4,
 "nbformat_minor": 5
}
