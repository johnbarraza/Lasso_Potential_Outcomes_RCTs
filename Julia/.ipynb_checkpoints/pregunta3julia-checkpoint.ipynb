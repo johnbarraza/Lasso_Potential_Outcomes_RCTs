{
 "cells": [
  {
   "cell_type": "code",
   "execution_count": 5,
   "id": "c8f037b7-3f95-4ccd-86e7-660cedae0209",
   "metadata": {},
   "outputs": [
    {
     "ename": "LoadError",
     "evalue": "UndefVarError: `Package` not defined",
     "output_type": "error",
     "traceback": [
      "UndefVarError: `Package` not defined",
      "",
      "Stacktrace:",
      " [1] top-level scope",
      "\u001b[90m   @\u001b[39m \u001b[90m\u001b[4mIn[5]:1\u001b[24m\u001b[39m"
     ]
    }
   ],
   "source": [
    "import Pkg\n",
    "Package.add([\"Random\", \"Distributions\", \"DataFrames\", \"GLM\", \"HypothesisTests\", \"GLMNet\"])\n"
   ]
  },
  {
   "cell_type": "code",
   "execution_count": 13,
   "id": "61d111f4-7b0d-42d4-9137-8557d5155640",
   "metadata": {},
   "outputs": [],
   "source": [
    "using Random\n",
    "using Distributions\n",
    "using DataFrames\n",
    "using GLM\n",
    "using HypothesisTests\n",
    "using GLMNet\n",
    "using GLMNet"
   ]
  },
  {
   "cell_type": "code",
   "execution_count": 20,
   "id": "a8559175-85b4-4844-b992-ce7213579a4c",
   "metadata": {},
   "outputs": [],
   "source": [
    "using GLM"
   ]
  },
  {
   "cell_type": "markdown",
   "id": "feb63fc8-6461-4089-bbc1-df88eee5ce84",
   "metadata": {},
   "source": [
    "**3.1 Data Simulation**"
   ]
  },
  {
   "cell_type": "code",
   "execution_count": 7,
   "id": "5a032bb5-20d7-4857-8f49-cf5b1108edb2",
   "metadata": {},
   "outputs": [
    {
     "data": {
      "text/html": [
       "<div><div style = \"float: left;\"><span>1000×6 DataFrame</span></div><div style = \"float: right; font-style: italic;\"><span>975 rows omitted</span></div><div style = \"clear: both;\"></div></div><div class = \"data-frame\" style = \"overflow-x: scroll;\"><table class = \"data-frame\" style = \"margin-bottom: 6px;\"><thead><tr class = \"columnLabelRow\"><th class = \"stubheadLabel\" style = \"font-weight: bold; text-align: right;\">Row</th><th style = \"text-align: left;\">Y</th><th style = \"text-align: left;\">D</th><th style = \"text-align: left;\">X1</th><th style = \"text-align: left;\">X2</th><th style = \"text-align: left;\">X3</th><th style = \"text-align: left;\">X4</th></tr><tr class = \"columnLabelRow\"><th class = \"stubheadLabel\" style = \"font-weight: bold; text-align: right;\"></th><th title = \"Float64\" style = \"text-align: left;\">Float64</th><th title = \"Bool\" style = \"text-align: left;\">Bool</th><th title = \"Float64\" style = \"text-align: left;\">Float64</th><th title = \"Float64\" style = \"text-align: left;\">Float64</th><th title = \"Bool\" style = \"text-align: left;\">Bool</th><th title = \"Bool\" style = \"text-align: left;\">Bool</th></tr></thead><tbody><tr class = \"dataRow\"><td class = \"rowLabel\" style = \"font-weight: bold; text-align: right;\">1</td><td style = \"text-align: right;\">3.29838</td><td style = \"text-align: right;\">false</td><td style = \"text-align: right;\">13.1832</td><td style = \"text-align: right;\">9.96024</td><td style = \"text-align: right;\">true</td><td style = \"text-align: right;\">true</td></tr><tr class = \"dataRow\"><td class = \"rowLabel\" style = \"font-weight: bold; text-align: right;\">2</td><td style = \"text-align: right;\">6.37527</td><td style = \"text-align: right;\">true</td><td style = \"text-align: right;\">16.2587</td><td style = \"text-align: right;\">10.4365</td><td style = \"text-align: right;\">false</td><td style = \"text-align: right;\">true</td></tr><tr class = \"dataRow\"><td class = \"rowLabel\" style = \"font-weight: bold; text-align: right;\">3</td><td style = \"text-align: right;\">3.48959</td><td style = \"text-align: right;\">false</td><td style = \"text-align: right;\">13.4251</td><td style = \"text-align: right;\">13.0571</td><td style = \"text-align: right;\">true</td><td style = \"text-align: right;\">false</td></tr><tr class = \"dataRow\"><td class = \"rowLabel\" style = \"font-weight: bold; text-align: right;\">4</td><td style = \"text-align: right;\">6.43925</td><td style = \"text-align: right;\">true</td><td style = \"text-align: right;\">13.4437</td><td style = \"text-align: right;\">8.47137</td><td style = \"text-align: right;\">true</td><td style = \"text-align: right;\">false</td></tr><tr class = \"dataRow\"><td class = \"rowLabel\" style = \"font-weight: bold; text-align: right;\">5</td><td style = \"text-align: right;\">6.31994</td><td style = \"text-align: right;\">false</td><td style = \"text-align: right;\">19.0815</td><td style = \"text-align: right;\">5.94471</td><td style = \"text-align: right;\">true</td><td style = \"text-align: right;\">false</td></tr><tr class = \"dataRow\"><td class = \"rowLabel\" style = \"font-weight: bold; text-align: right;\">6</td><td style = \"text-align: right;\">7.15226</td><td style = \"text-align: right;\">true</td><td style = \"text-align: right;\">17.3837</td><td style = \"text-align: right;\">12.06</td><td style = \"text-align: right;\">false</td><td style = \"text-align: right;\">false</td></tr><tr class = \"dataRow\"><td class = \"rowLabel\" style = \"font-weight: bold; text-align: right;\">7</td><td style = \"text-align: right;\">2.08192</td><td style = \"text-align: right;\">false</td><td style = \"text-align: right;\">10.7022</td><td style = \"text-align: right;\">11.9628</td><td style = \"text-align: right;\">false</td><td style = \"text-align: right;\">false</td></tr><tr class = \"dataRow\"><td class = \"rowLabel\" style = \"font-weight: bold; text-align: right;\">8</td><td style = \"text-align: right;\">3.61909</td><td style = \"text-align: right;\">true</td><td style = \"text-align: right;\">7.65356</td><td style = \"text-align: right;\">8.97362</td><td style = \"text-align: right;\">false</td><td style = \"text-align: right;\">false</td></tr><tr class = \"dataRow\"><td class = \"rowLabel\" style = \"font-weight: bold; text-align: right;\">9</td><td style = \"text-align: right;\">1.44954</td><td style = \"text-align: right;\">true</td><td style = \"text-align: right;\">4.42833</td><td style = \"text-align: right;\">11.2265</td><td style = \"text-align: right;\">false</td><td style = \"text-align: right;\">false</td></tr><tr class = \"dataRow\"><td class = \"rowLabel\" style = \"font-weight: bold; text-align: right;\">10</td><td style = \"text-align: right;\">7.28236</td><td style = \"text-align: right;\">true</td><td style = \"text-align: right;\">15.2189</td><td style = \"text-align: right;\">6.81266</td><td style = \"text-align: right;\">false</td><td style = \"text-align: right;\">false</td></tr><tr class = \"dataRow\"><td class = \"rowLabel\" style = \"font-weight: bold; text-align: right;\">11</td><td style = \"text-align: right;\">5.43144</td><td style = \"text-align: right;\">true</td><td style = \"text-align: right;\">10.8733</td><td style = \"text-align: right;\">5.9315</td><td style = \"text-align: right;\">false</td><td style = \"text-align: right;\">true</td></tr><tr class = \"dataRow\"><td class = \"rowLabel\" style = \"font-weight: bold; text-align: right;\">12</td><td style = \"text-align: right;\">8.38541</td><td style = \"text-align: right;\">true</td><td style = \"text-align: right;\">19.2014</td><td style = \"text-align: right;\">10.5892</td><td style = \"text-align: right;\">false</td><td style = \"text-align: right;\">false</td></tr><tr class = \"dataRow\"><td class = \"rowLabel\" style = \"font-weight: bold; text-align: right;\">13</td><td style = \"text-align: right;\">5.25247</td><td style = \"text-align: right;\">false</td><td style = \"text-align: right;\">17.1694</td><td style = \"text-align: right;\">11.6095</td><td style = \"text-align: right;\">true</td><td style = \"text-align: right;\">false</td></tr><tr><td style = \"text-align: right;\">&vellip;</td><td style = \"text-align: right;\">&vellip;</td><td style = \"text-align: right;\">&vellip;</td><td style = \"text-align: right;\">&vellip;</td><td style = \"text-align: right;\">&vellip;</td><td style = \"text-align: right;\">&vellip;</td><td style = \"text-align: right;\">&vellip;</td></tr><tr class = \"dataRow\"><td class = \"rowLabel\" style = \"font-weight: bold; text-align: right;\">989</td><td style = \"text-align: right;\">7.80589</td><td style = \"text-align: right;\">false</td><td style = \"text-align: right;\">18.7781</td><td style = \"text-align: right;\">6.7401</td><td style = \"text-align: right;\">false</td><td style = \"text-align: right;\">false</td></tr><tr class = \"dataRow\"><td class = \"rowLabel\" style = \"font-weight: bold; text-align: right;\">990</td><td style = \"text-align: right;\">0.541172</td><td style = \"text-align: right;\">false</td><td style = \"text-align: right;\">6.48175</td><td style = \"text-align: right;\">11.1449</td><td style = \"text-align: right;\">false</td><td style = \"text-align: right;\">true</td></tr><tr class = \"dataRow\"><td class = \"rowLabel\" style = \"font-weight: bold; text-align: right;\">991</td><td style = \"text-align: right;\">3.2317</td><td style = \"text-align: right;\">false</td><td style = \"text-align: right;\">16.4</td><td style = \"text-align: right;\">11.8683</td><td style = \"text-align: right;\">true</td><td style = \"text-align: right;\">false</td></tr><tr class = \"dataRow\"><td class = \"rowLabel\" style = \"font-weight: bold; text-align: right;\">992</td><td style = \"text-align: right;\">6.88974</td><td style = \"text-align: right;\">false</td><td style = \"text-align: right;\">17.7501</td><td style = \"text-align: right;\">10.7331</td><td style = \"text-align: right;\">true</td><td style = \"text-align: right;\">true</td></tr><tr class = \"dataRow\"><td class = \"rowLabel\" style = \"font-weight: bold; text-align: right;\">993</td><td style = \"text-align: right;\">4.09466</td><td style = \"text-align: right;\">false</td><td style = \"text-align: right;\">15.0368</td><td style = \"text-align: right;\">7.68402</td><td style = \"text-align: right;\">true</td><td style = \"text-align: right;\">false</td></tr><tr class = \"dataRow\"><td class = \"rowLabel\" style = \"font-weight: bold; text-align: right;\">994</td><td style = \"text-align: right;\">3.45424</td><td style = \"text-align: right;\">false</td><td style = \"text-align: right;\">12.6456</td><td style = \"text-align: right;\">9.42338</td><td style = \"text-align: right;\">true</td><td style = \"text-align: right;\">false</td></tr><tr class = \"dataRow\"><td class = \"rowLabel\" style = \"font-weight: bold; text-align: right;\">995</td><td style = \"text-align: right;\">3.5845</td><td style = \"text-align: right;\">true</td><td style = \"text-align: right;\">13.7754</td><td style = \"text-align: right;\">12.6608</td><td style = \"text-align: right;\">false</td><td style = \"text-align: right;\">true</td></tr><tr class = \"dataRow\"><td class = \"rowLabel\" style = \"font-weight: bold; text-align: right;\">996</td><td style = \"text-align: right;\">6.42951</td><td style = \"text-align: right;\">false</td><td style = \"text-align: right;\">16.5849</td><td style = \"text-align: right;\">10.656</td><td style = \"text-align: right;\">false</td><td style = \"text-align: right;\">false</td></tr><tr class = \"dataRow\"><td class = \"rowLabel\" style = \"font-weight: bold; text-align: right;\">997</td><td style = \"text-align: right;\">6.73204</td><td style = \"text-align: right;\">false</td><td style = \"text-align: right;\">19.1274</td><td style = \"text-align: right;\">11.6213</td><td style = \"text-align: right;\">true</td><td style = \"text-align: right;\">false</td></tr><tr class = \"dataRow\"><td class = \"rowLabel\" style = \"font-weight: bold; text-align: right;\">998</td><td style = \"text-align: right;\">1.2931</td><td style = \"text-align: right;\">false</td><td style = \"text-align: right;\">5.37002</td><td style = \"text-align: right;\">11.7683</td><td style = \"text-align: right;\">true</td><td style = \"text-align: right;\">false</td></tr><tr class = \"dataRow\"><td class = \"rowLabel\" style = \"font-weight: bold; text-align: right;\">999</td><td style = \"text-align: right;\">6.51079</td><td style = \"text-align: right;\">false</td><td style = \"text-align: right;\">19.8843</td><td style = \"text-align: right;\">9.66569</td><td style = \"text-align: right;\">false</td><td style = \"text-align: right;\">false</td></tr><tr class = \"dataRow\"><td class = \"rowLabel\" style = \"font-weight: bold; text-align: right;\">1000</td><td style = \"text-align: right;\">5.01201</td><td style = \"text-align: right;\">true</td><td style = \"text-align: right;\">13.7683</td><td style = \"text-align: right;\">10.9957</td><td style = \"text-align: right;\">false</td><td style = \"text-align: right;\">false</td></tr></tbody></table></div>"
      ],
      "text/latex": [
       "\\begin{tabular}{r|cccccc}\n",
       "\t& Y & D & X1 & X2 & X3 & X4\\\\\n",
       "\t\\hline\n",
       "\t& Float64 & Bool & Float64 & Float64 & Bool & Bool\\\\\n",
       "\t\\hline\n",
       "\t1 & 3.29838 & 0 & 13.1832 & 9.96024 & 1 & 1 \\\\\n",
       "\t2 & 6.37527 & 1 & 16.2587 & 10.4365 & 0 & 1 \\\\\n",
       "\t3 & 3.48959 & 0 & 13.4251 & 13.0571 & 1 & 0 \\\\\n",
       "\t4 & 6.43925 & 1 & 13.4437 & 8.47137 & 1 & 0 \\\\\n",
       "\t5 & 6.31994 & 0 & 19.0815 & 5.94471 & 1 & 0 \\\\\n",
       "\t6 & 7.15226 & 1 & 17.3837 & 12.06 & 0 & 0 \\\\\n",
       "\t7 & 2.08192 & 0 & 10.7022 & 11.9628 & 0 & 0 \\\\\n",
       "\t8 & 3.61909 & 1 & 7.65356 & 8.97362 & 0 & 0 \\\\\n",
       "\t9 & 1.44954 & 1 & 4.42833 & 11.2265 & 0 & 0 \\\\\n",
       "\t10 & 7.28236 & 1 & 15.2189 & 6.81266 & 0 & 0 \\\\\n",
       "\t11 & 5.43144 & 1 & 10.8733 & 5.9315 & 0 & 1 \\\\\n",
       "\t12 & 8.38541 & 1 & 19.2014 & 10.5892 & 0 & 0 \\\\\n",
       "\t13 & 5.25247 & 0 & 17.1694 & 11.6095 & 1 & 0 \\\\\n",
       "\t14 & 4.15907 & 1 & 13.0228 & 13.515 & 1 & 0 \\\\\n",
       "\t15 & 6.84791 & 0 & 17.5857 & 10.235 & 1 & 0 \\\\\n",
       "\t16 & 10.1154 & 1 & 22.2361 & 8.08876 & 1 & 0 \\\\\n",
       "\t17 & 6.88005 & 1 & 14.5346 & 8.92361 & 1 & 0 \\\\\n",
       "\t18 & 0.13355 & 0 & 8.63707 & 9.68777 & 1 & 0 \\\\\n",
       "\t19 & 1.6198 & 0 & 13.4463 & 14.8545 & 1 & 0 \\\\\n",
       "\t20 & 5.01075 & 0 & 14.5171 & 10.8129 & 1 & 1 \\\\\n",
       "\t21 & 0.383257 & 0 & 8.08595 & 8.26275 & 1 & 0 \\\\\n",
       "\t22 & 4.32141 & 0 & 7.68777 & 5.53818 & 0 & 0 \\\\\n",
       "\t23 & 11.2311 & 1 & 21.5049 & 11.3082 & 1 & 1 \\\\\n",
       "\t24 & 10.6593 & 0 & 26.3314 & 13.896 & 0 & 0 \\\\\n",
       "\t25 & 9.41042 & 1 & 22.562 & 9.51416 & 1 & 0 \\\\\n",
       "\t26 & 8.19332 & 0 & 18.2442 & 9.92966 & 0 & 0 \\\\\n",
       "\t27 & 8.95451 & 1 & 19.4997 & 6.00225 & 0 & 0 \\\\\n",
       "\t28 & 5.50837 & 0 & 16.4208 & 12.6124 & 1 & 0 \\\\\n",
       "\t29 & 7.34009 & 0 & 20.5179 & 8.40686 & 1 & 1 \\\\\n",
       "\t30 & 6.34695 & 1 & 18.3194 & 10.4252 & 1 & 0 \\\\\n",
       "\t$\\dots$ & $\\dots$ & $\\dots$ & $\\dots$ & $\\dots$ & $\\dots$ & $\\dots$ \\\\\n",
       "\\end{tabular}\n"
      ],
      "text/plain": [
       "\u001b[1m1000×6 DataFrame\u001b[0m\n",
       "\u001b[1m  Row \u001b[0m│\u001b[1m Y       \u001b[0m\u001b[1m D     \u001b[0m\u001b[1m X1       \u001b[0m\u001b[1m X2       \u001b[0m\u001b[1m X3    \u001b[0m\u001b[1m X4    \u001b[0m\n",
       "\u001b[1m      \u001b[0m│\u001b[90m Float64 \u001b[0m\u001b[90m Bool  \u001b[0m\u001b[90m Float64  \u001b[0m\u001b[90m Float64  \u001b[0m\u001b[90m Bool  \u001b[0m\u001b[90m Bool  \u001b[0m\n",
       "──────┼──────────────────────────────────────────────────\n",
       "    1 │ 3.29838  false  13.1832    9.96024   true   true\n",
       "    2 │ 6.37527   true  16.2587   10.4365   false   true\n",
       "    3 │ 3.48959  false  13.4251   13.0571    true  false\n",
       "    4 │ 6.43925   true  13.4437    8.47137   true  false\n",
       "    5 │ 6.31994  false  19.0815    5.94471   true  false\n",
       "    6 │ 7.15226   true  17.3837   12.06     false  false\n",
       "    7 │ 2.08192  false  10.7022   11.9628   false  false\n",
       "    8 │ 3.61909   true   7.65356   8.97362  false  false\n",
       "    9 │ 1.44954   true   4.42833  11.2265   false  false\n",
       "   10 │ 7.28236   true  15.2189    6.81266  false  false\n",
       "   11 │ 5.43144   true  10.8733    5.9315   false   true\n",
       "  ⋮   │    ⋮       ⋮       ⋮         ⋮        ⋮      ⋮\n",
       "  991 │ 3.2317   false  16.4      11.8683    true  false\n",
       "  992 │ 6.88974  false  17.7501   10.7331    true   true\n",
       "  993 │ 4.09466  false  15.0368    7.68402   true  false\n",
       "  994 │ 3.45424  false  12.6456    9.42338   true  false\n",
       "  995 │ 3.5845    true  13.7754   12.6608   false   true\n",
       "  996 │ 6.42951  false  16.5849   10.656    false  false\n",
       "  997 │ 6.73204  false  19.1274   11.6213    true  false\n",
       "  998 │ 1.2931   false   5.37002  11.7683    true  false\n",
       "  999 │ 6.51079  false  19.8843    9.66569  false  false\n",
       " 1000 │ 5.01201   true  13.7683   10.9957   false  false\n",
       "\u001b[36m                                         979 rows omitted\u001b[0m"
      ]
     },
     "execution_count": 7,
     "metadata": {},
     "output_type": "execute_result"
    }
   ],
   "source": [
    "Random.seed!(42)\n",
    "n = 1000\n",
    "X1 = rand(Normal(15, 5), n)    \n",
    "X2 = rand(Normal(10, 2), n)    \n",
    "X3 = rand(Bernoulli(0.6), n)   \n",
    "X4 = rand(Bernoulli(0.25), n)  \n",
    "\n",
    "D = rand(Bernoulli(0.5), n)\n",
    "\n",
    "epsilon = rand(Normal(0, 1), n)\n",
    "\n",
    "Y = 2 .* D .+ 0.5 .* X1 .- 0.3 .* X2 .+ 0.2 .* X3 .+ epsilon\n",
    "\n",
    "df = DataFrame(Y = Y, D = D, X1 = X1, X2 = X2, X3 = X3, X4 = X4)"
   ]
  },
  {
   "cell_type": "markdown",
   "id": "3a6ccfcf-61ff-4b23-801e-45780c38939a",
   "metadata": {},
   "source": [
    "representacion de diferencia de medias"
   ]
  },
  {
   "cell_type": "code",
   "execution_count": 8,
   "id": "0a4b679f-933e-4812-80d7-572f2a0d1d19",
   "metadata": {},
   "outputs": [
    {
     "data": {
      "text/plain": [
       "balance_check (generic function with 1 method)"
      ]
     },
     "execution_count": 8,
     "metadata": {},
     "output_type": "execute_result"
    }
   ],
   "source": [
    "\n",
    "treatment_group = df[df.D .== 1, :]\n",
    "control_group = df[df.D .== 0, :]\n",
    "\n",
    "function balance_check(var_name::String)\n",
    "    t_result = EqualVarianceTTest(treatment_group[!, var_name], control_group[!, var_name])\n",
    "    println(\"Balance check para $var_name:\")\n",
    "    println(\"Media (Treatment): \", mean(treatment_group[!, var_name]))\n",
    "    println(\"Media(Control): \", mean(control_group[!, var_name]))\n",
    "    println(\"Diferencia(Treatment - Control): \", mean(treatment_group[!, var_name]) - mean(control_group[!, var_name]))\n",
    "    println(\"p-value: \", pvalue(t_result))\n",
    "end"
   ]
  },
  {
   "cell_type": "code",
   "execution_count": 9,
   "id": "b6ca4dfe-1737-4e46-9079-5aed1b5a4b5b",
   "metadata": {},
   "outputs": [
    {
     "name": "stdout",
     "output_type": "stream",
     "text": [
      "Balance check para X1:\n",
      "Mean (Treatment): 14.784994598702728\n",
      "Mean (Control): 14.615897623158595\n",
      "Difference (Treatment - Control): 0.16909697554413228\n",
      "p-value: 0.5883292875674409\n",
      "--------------------------------\n",
      "Balance check para X2:\n",
      "Mean (Treatment): 10.114379171545993\n",
      "Mean (Control): 9.9639506222549\n",
      "Difference (Treatment - Control): 0.1504285492910924\n",
      "p-value: 0.2419177866618098\n",
      "--------------------------------\n",
      "Balance check para X3:\n",
      "Mean (Treatment): 0.5850202429149798\n",
      "Mean (Control): 0.6067193675889329\n",
      "Difference (Treatment - Control): -0.021699124673953074\n",
      "p-value: 0.48495475416774503\n",
      "--------------------------------\n",
      "Balance check para X4:\n",
      "Mean (Treatment): 0.23684210526315788\n",
      "Mean (Control): 0.23122529644268774\n",
      "Difference (Treatment - Control): 0.005616808820470137\n",
      "p-value: 0.8340642269122325\n",
      "--------------------------------\n"
     ]
    }
   ],
   "source": [
    "# Perform balance checks for each covariate\n",
    "balance_check(\"X1\")\n",
    "balance_check(\"X2\")\n",
    "balance_check(\"X3\")\n",
    "balance_check(\"X4\")"
   ]
  },
  {
   "cell_type": "markdown",
   "id": "87d6cfef-6211-4ecf-9db4-3603a4b61b35",
   "metadata": {},
   "source": [
    "**3.2 Estimating the Average Treatment Effect**\n"
   ]
  },
  {
   "cell_type": "markdown",
   "id": "a6e5dc47-8abb-4dfd-bb78-8c33d117ef6c",
   "metadata": {},
   "source": [
    "Simple regression: Y ~ D"
   ]
  },
  {
   "cell_type": "code",
   "execution_count": 15,
   "id": "4d99c43e-0f1b-460e-a627-fed97fc1d854",
   "metadata": {},
   "outputs": [
    {
     "data": {
      "text/plain": [
       "StatsModels.TableRegressionModel{LinearModel{GLM.LmResp{Vector{Float64}}, GLM.DensePredChol{Float64, LinearAlgebra.CholeskyPivoted{Float64, Matrix{Float64}, Vector{Int64}}}}, Matrix{Float64}}\n",
       "\n",
       "Y ~ 1 + D\n",
       "\n",
       "Coefficients:\n",
       "───────────────────────────────────────────────────────────────────────\n",
       "               Coef.  Std. Error      t  Pr(>|t|)  Lower 95%  Upper 95%\n",
       "───────────────────────────────────────────────────────────────────────\n",
       "(Intercept)  4.43468    0.121187  36.59    <1e-99    4.19687    4.67249\n",
       "D            2.00682    0.172422  11.64    <1e-28    1.66847    2.34518\n",
       "───────────────────────────────────────────────────────────────────────"
      ]
     },
     "execution_count": 15,
     "metadata": {},
     "output_type": "execute_result"
    }
   ],
   "source": [
    "simple = lm(@formula(Y ~ D), df)"
   ]
  },
  {
   "cell_type": "code",
   "execution_count": 24,
   "id": "920c8f54-45d6-4716-aabd-2c363e46d991",
   "metadata": {},
   "outputs": [
    {
     "ename": "LoadError",
     "evalue": "UndefVarError: `coef` not defined",
     "output_type": "error",
     "traceback": [
      "UndefVarError: `coef` not defined",
      "",
      "Stacktrace:",
      " [1] top-level scope",
      "\u001b[90m   @\u001b[39m \u001b[90m\u001b[4mIn[24]:1\u001b[24m\u001b[39m"
     ]
    }
   ],
   "source": [
    "coef.simple"
   ]
  },
  {
   "cell_type": "code",
   "execution_count": 25,
   "id": "042bc2c4-cf36-48c9-8e56-64f86124823e",
   "metadata": {},
   "outputs": [
    {
     "ename": "LoadError",
     "evalue": "syntax: invalid syntax in \"global\" declaration around In[25]:3",
     "output_type": "error",
     "traceback": [
      "syntax: invalid syntax in \"global\" declaration around In[25]:3",
      "",
      "Stacktrace:",
      " [1] top-level scope",
      "\u001b[90m   @\u001b[39m \u001b[90m\u001b[4mIn[25]:3\u001b[24m\u001b[39m"
     ]
    }
   ],
   "source": [
    "\n",
    "simple = lm(@formula(Y ~ D), df)\n",
    "simple_ate = coef(simple)[2]  \n",
    "simple_se = stderror(simple)[2]\n",
    "\n",
    "println(\"regresion(Y ~ D):\")\n",
    "println(\"ATE (D): \", simple_ate)\n",
    "println(\"Se: \", simple_se,\"/n\")\n"
   ]
  },
  {
   "cell_type": "markdown",
   "id": "c7cd2e46-5984-4257-b21f-4a6c62d5ab29",
   "metadata": {},
   "source": [
    "Multiple : Y ~ D + X1 + X2 + X3 + X4"
   ]
  },
  {
   "cell_type": "code",
   "execution_count": 12,
   "id": "7d869c15-8ed4-483b-ac86-e08418725d44",
   "metadata": {},
   "outputs": [
    {
     "ename": "LoadError",
     "evalue": "UndefVarError: `coef` not defined",
     "output_type": "error",
     "traceback": [
      "UndefVarError: `coef` not defined",
      "",
      "Stacktrace:",
      " [1] top-level scope",
      "\u001b[90m   @\u001b[39m \u001b[90m\u001b[4mIn[12]:2\u001b[24m\u001b[39m"
     ]
    }
   ],
   "source": [
    "multiple = lm(@formula(Y ~ D + X1 + X2 + X3 + X4), df)\n",
    "multiple_ate = coef(multiple)[2]  # Coefficient of D\n",
    "multiple_se = stderror(multiple)[2]\n",
    "\n",
    "println(\"regresion (Y ~ D + X1 + X2 + X3 + X4):\")\n",
    "println(\"ATE (D): \", multiple_ate)\n",
    "println(\"Se: \", multiple_se)"
   ]
  },
  {
   "cell_type": "markdown",
   "id": "858a2a80-a3a6-4168-aed4-a0762b7d72aa",
   "metadata": {},
   "source": [
    "Comparacion"
   ]
  },
  {
   "cell_type": "code",
   "execution_count": null,
   "id": "3bc34d1c-8dcb-4637-a4b5-d19919d42910",
   "metadata": {},
   "outputs": [],
   "source": [
    "\n",
    "println(\"Comparacion:\")\n",
    "println(\"cambia? \", simple_ate != multiple_ate ? \"si\" : \"No\")\n",
    "println(\"diferencia ATE  (Multiple - Simple): \", multiple_ate - simple_ate)\n",
    "println(\"diferencia Se (Multiple - Simple): \", multiple_se - simple_se)\n"
   ]
  },
  {
   "cell_type": "markdown",
   "id": "b482d397-d3ed-4762-a0f1-163d7801fdf4",
   "metadata": {},
   "source": [
    "Los valores del ATE no varian mucho, los valores que tomó fue de 2.2014 para el modelo simple y para el modelo múltiple fue 2.0606. Mientras que el valor verdadero es 2. Esto se debe a que la asignación del D fue aletoria y no esta correlacionada con las X.\n",
    "\n",
    "Acerca de lo que pasa con los errores estandares es que bajaron de 0.173 para el modelo simple y 0.062 el modelo multiple. Lo que pasa es que las covariables son buenas predictoras del Y (asi es nuestro PGD), por lo que al incluirlos reduicmos la magnitud del error residual."
   ]
  },
  {
   "cell_type": "markdown",
   "id": "b8343141-5b0a-4eab-9bed-ca95640c4a4a",
   "metadata": {},
   "source": [
    "**3.3 LASSO and Variable Selection**"
   ]
  },
  {
   "cell_type": "code",
   "execution_count": null,
   "id": "466b175f-20a4-4a31-b0f5-a9365690063d",
   "metadata": {},
   "outputs": [],
   "source": [
    "\n",
    "x = Matrix(df[!, [:X1, :X2, :X3, :X4]])\n",
    "y = df.Y\n",
    "\n",
    "\n",
    "cv_fit = glmnetcv(x, y, alpha=1.0)\n",
    "\n",
    "\n",
    "println(\"LASSO ATE vs Multiple ATE : \", lasso_ate - multiple_ate)\n",
    "println(\"LASSO SE vs Simple SE : \", lasso_se - simple_se)\n",
    "println(\"LASSO SE vs Multiple SE : \", lasso_se - multiple_se)"
   ]
  },
  {
   "cell_type": "markdown",
   "id": "878a5c9b-9d08-4535-b745-3e0700b811ac",
   "metadata": {},
   "source": [
    "cuando se usa lasso , excluyendo la vairable x4 se logra casi la misma precision que usando la variable x4 en un modelo multiple . Es decir que esta era irrelevante , y ahi reside la funcionalidad del modelo en si. LASSO ATE vs Multiple ATE = -6.120297e-05"
   ]
  }
 ],
 "metadata": {
  "kernelspec": {
   "display_name": "Julia 1.10.10",
   "language": "julia",
   "name": "julia-1.10"
  },
  "language_info": {
   "file_extension": ".jl",
   "mimetype": "application/julia",
   "name": "julia",
   "version": "1.10.10"
  }
 },
 "nbformat": 4,
 "nbformat_minor": 5
}
