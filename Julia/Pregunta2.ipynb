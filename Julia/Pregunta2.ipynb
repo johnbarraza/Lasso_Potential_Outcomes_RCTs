{
 "cells": [
  {
   "cell_type": "code",
   "execution_count": null,
   "metadata": {},
   "outputs": [],
   "source": [
    "using CSV\n",
    "using DataFrames\n",
    "using Plots\n",
    "using Random\n",
    "using LinearAlgebra\n",
    "using Statistics\n",
    "using GLMNet\n",
    "\n",
    "Random.seed!(12092024)"
   ]
  },
  {
   "cell_type": "code",
   "execution_count": null,
   "metadata": {},
   "outputs": [],
   "source": [
    "# Cargar datos\n",
    "df = DataFrame(CSV.File(\"Districtwise_literacy_rates.csv\"))\n",
    "\n",
    "# Eliminar valores faltantes\n",
    "dropmissing!(df)\n",
    "println(\"Dataset limpio: \", size(df))"
   ]
  },
  {
   "cell_type": "code",
   "execution_count": null,
   "metadata": {},
   "outputs": [],
   "source": [
    "# Histogramas\n",
    "default(size=(900,600))\n",
    "histogram(df.FEMALE_LIT, bins=30, title=\"Distribución alfabetización femenina\",\n",
    "          xlabel=\"FEMALE_LIT\", ylabel=\"Frecuencia\", color=:purple)\n",
    "savefig(\"female_literacy_hist.png\")\n",
    "\n",
    "histogram(df.MALE_LIT, bins=30, title=\"Distribución alfabetización masculina\",\n",
    "          xlabel=\"MALE_LIT\", ylabel=\"Frecuencia\", color=:blue)\n",
    "savefig(\"male_literacy_hist.png\")"
   ]
  },
  {
   "cell_type": "code",
   "execution_count": null,
   "metadata": {},
   "outputs": [],
   "source": [
    "# Separar train y test\n",
    "n  = nrow(df)\n",
    "idx = shuffle(1:n)\n",
    "ntr = Int(round(0.7n))\n",
    "tr  = idx[1:ntr]; te = idx[ntr+1:end]\n",
    "\n",
    "y  = Vector{Float64}(df.FEMALE_LIT)"
   ]
  },
  {
   "cell_type": "code",
   "execution_count": null,
   "metadata": {},
   "outputs": [],
   "source": [
    "# Modelo simple\n",
    "X_low = Matrix(df[:, [:MALE_LIT]])\n",
    "\n",
    "cv_low = glmnetcv(X_low[tr, :], y[tr], alpha=1)\n",
    "λ_low = cv_low.lambda[argmin(cv_low.meanloss)]\n",
    "fit_low = glmnet(X_low[tr, :], y[tr], alpha=1, lambda=[λ_low])\n",
    "\n",
    "ŷ_low = predict(fit_low, X_low[te, :], λ_low)[:, 1]\n",
    "r2_low = 1 .- sum((y[te] .- ŷ_low).^2) / sum((y[te] .- mean(y[te])).^2)\n",
    "\n",
    "coefs_low = coef(fit_low, λ_low)\n",
    "nnz_low = count(!iszero, coefs_low[2:end])\n",
    "\n",
    "println(\"R² simple = \", round(r2_low, digits=3),\n",
    "        \" | λ* = \", λ_low,\n",
    "        \" | #coef≠0 = \", nnz_low)"
   ]
  },
  {
   "cell_type": "code",
   "execution_count": null,
   "metadata": {},
   "outputs": [],
   "source": [
    "# Modelo flexible\n",
    "pred = Symbol[\n",
    "    :MALE_LIT, :TOTPOPULAT, :P_URB_POP, :SEXRATIO, :OVERALL_LI, :AREA_SQKM,\n",
    "    Symbol(\"TOT_6_10_15\"), Symbol(\"TOT_11_13_15\"), :SCH1, :SCH2, :SCH3\n",
    "]\n",
    "\n",
    "Xbase = Matrix{Float64}(df[:, pred])\n",
    "Xsq = hcat([df[!, p].^2 for p in pred]...)\n",
    "\n",
    "ints  = DataFrame()\n",
    "for i in 1:length(pred)-1, j in i+1:length(pred)\n",
    "    v = df[!, pred[i]] .* df[!, pred[j]]\n",
    "    insertcols!(ints!, ncol(ints)+1 => v)\n",
    "end\n",
    "Xint = Matrix{Float64}(ints)\n",
    "\n",
    "X_high = hcat(Xbase, Xsq, Xint)\n",
    "\n",
    "cv_high = glmnetcv(X_high[tr, :], y[tr], alpha=1)\n",
    "λ_high = cv_high.lambda[argmin(cv_high.meanloss)]\n",
    "fit_high = glmnet(X_high[tr, :], y[tr], alpha=1, lambda=[λ_high])\n",
    "\n",
    "ŷ_high = predict(fit_high, X_high[te, :], λ_high)[:, 1]\n",
    "r2_high = 1 .- sum((y[te] .- ŷ_high).^2) / sum((y[te] .- mean(y[te])).^2)\n",
    "coefs_high = coef(fit_high, λ_high)\n",
    "nnz_high = count(!iszero, coefs_high[2:end])\n",
    "\n",
    "println(\"R² flexible = \", round(r2_high, digits=3),\n",
    "        \" | λ* = \", λ_high,\n",
    "        \" | #coef≠0 = \", nnz_high)"
   ]
  },
  {
   "cell_type": "code",
   "execution_count": null,
   "metadata": {},
   "outputs": [],
   "source": [
    "# Trayectoria de coeficientes\n",
    "λ_grid = exp.(range(log(1.0e4), stop=log(1.0e-3), length=100))\n",
    "fit_path = glmnet(X_high[tr, :], y[tr], alpha=1, lambda=λ_grid)\n",
    "\n",
    "C = hcat([vec(coef(fit_path, λ))[2:end] for λ in λ_grid]...)\n",
    "\n",
    "plt = plot(xscale=:log10, xlabel=\"λ (alpha)\", ylabel=\"Coeficientes\",\n",
    "           title=\"Trayectoria de coeficientes LASSO\", legend=false)\n",
    "for k in 1:size(C, 1)\n",
    "    plot!(λ_grid, C[k, :])\n",
    "end\n",
    "hline!([0], linetype=:dash, color=:black)\n",
    "savefig(\"lasso_path.png\")\n",
    "\n",
    "println(\"Listo: gráficos guardados\")"
   ]
  }
 ],
 "metadata": {
  "kernelspec": {
   "display_name": "Julia 1.10",
   "language": "julia",
   "name": "julia-1.10"
  },
  "language_info": {
   "file_extension": ".jl",
   "mimetype": "application/julia",
   "name": "julia",
   "version": "1.10.0"
  }
 },
 "nbformat": 4,
 "nbformat_minor": 5
}
